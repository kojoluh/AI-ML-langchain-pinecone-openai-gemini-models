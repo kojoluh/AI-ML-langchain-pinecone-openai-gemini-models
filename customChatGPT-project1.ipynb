{
 "cells": [
  {
   "cell_type": "markdown",
   "id": "85907205-2576-45fd-a0d2-bef3af8dcc90",
   "metadata": {},
   "source": [
    "# 20240306 - Project 1 - Building a Custom ChatGPT App with LangChain From Scratch\n",
    "Advantages of Using A custom ChatGPT App\n",
    "1. Increased security\n",
    "2. Improved user experience\n",
    "3. Greater flexibility\n",
    "4. learning opportunities and insights from logs"
   ]
  },
  {
   "cell_type": "code",
   "execution_count": null,
   "id": "32c6bfe3-f47a-4019-9d60-d74ea6e79836",
   "metadata": {},
   "outputs": [],
   "source": [
    "from dotenv import load_dotenv, find_dotenv\n",
    "load_dotenv(find_dotenv(), override=True)\n",
    "\n",
    "from langchain_openai import ChatOpenAI\n",
    "from langchain.schema import SystemMessage\n",
    "from langchain.chains import LLMChain\n",
    "from langchain.prompts import ChatPromptTemplate, HumanMessagePromptTemplate, MessagesPlaceholder\n",
    "from langchain.memory import ConversationBufferMemory, FileChatMessageHistory\n",
    "\n",
    "# llm object\n",
    "llm = ChatOpenAI(model_name='gpt-3.5-turbo', temperature=1)\n",
    "# chat history\n",
    "history = FileChatMessageHistory('./chat_history.json')\n",
    "\n",
    "# memory object\n",
    "memory = ConversationBufferMemory(\n",
    "    memory_key='chat_history',\n",
    "    chat_memory=history,\n",
    "    return_messages=True\n",
    ")\n",
    "\n",
    "\n",
    "# prompt \n",
    "prompt = ChatPromptTemplate(\n",
    "    input_variables=['content'],\n",
    "    messages=[\n",
    "        SystemMessage(content='You are chatbot having a conversation with a human.'),\n",
    "        MessagesPlaceholder(variable_name='chat_history'), # where the memory data will be stored\n",
    "        HumanMessagePromptTemplate.from_template('{content}')\n",
    "    ]\n",
    ")\n",
    "\n",
    "# chain\n",
    "chain = LLMChain(\n",
    "    llm=llm,\n",
    "    prompt=prompt,\n",
    "    memory=memory,\n",
    "    verbose=True\n",
    ")\n",
    "\n",
    "while True:\n",
    "    content = input('Your prompt: ')\n",
    "    if content in ['quit', 'exit', 'bye']:\n",
    "        print('Goodbye!')\n",
    "        break\n",
    "    \n",
    "    response = chain.invoke({'content': content})\n",
    "    print (response)\n",
    "    print('-'*50)\n",
    "\n",
    "\n"
   ]
  },
  {
   "cell_type": "code",
   "execution_count": null,
   "id": "6afe6330-3310-4363-8a36-08c5da6a2562",
   "metadata": {},
   "outputs": [],
   "source": []
  }
 ],
 "metadata": {
  "kernelspec": {
   "display_name": "Python 3 (ipykernel)",
   "language": "python",
   "name": "python3"
  },
  "language_info": {
   "codemirror_mode": {
    "name": "ipython",
    "version": 3
   },
   "file_extension": ".py",
   "mimetype": "text/x-python",
   "name": "python",
   "nbconvert_exporter": "python",
   "pygments_lexer": "ipython3",
   "version": "3.11.6"
  }
 },
 "nbformat": 4,
 "nbformat_minor": 5
}
