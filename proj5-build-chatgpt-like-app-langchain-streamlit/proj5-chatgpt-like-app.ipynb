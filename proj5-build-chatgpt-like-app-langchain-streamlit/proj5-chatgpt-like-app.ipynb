{
 "cells": [
  {
   "cell_type": "markdown",
   "id": "6634bc89-4cb3-4eb6-ae83-e079afa865d0",
   "metadata": {},
   "source": [
    "# 20240313 - Project 5 - Building a ChatGPT-like App with Python, Langchain and Streamlit\n"
   ]
  },
  {
   "cell_type": "code",
   "execution_count": null,
   "id": "4980946e-af03-4d89-947d-58edc4253f94",
   "metadata": {},
   "outputs": [],
   "source": []
  }
 ],
 "metadata": {
  "kernelspec": {
   "display_name": "Python 3 (ipykernel)",
   "language": "python",
   "name": "python3"
  },
  "language_info": {
   "codemirror_mode": {
    "name": "ipython",
    "version": 3
   },
   "file_extension": ".py",
   "mimetype": "text/x-python",
   "name": "python",
   "nbconvert_exporter": "python",
   "pygments_lexer": "ipython3",
   "version": "3.11.6"
  }
 },
 "nbformat": 4,
 "nbformat_minor": 5
}
